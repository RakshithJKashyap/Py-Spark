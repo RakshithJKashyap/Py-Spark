{
 "cells": [
  {
   "cell_type": "code",
   "execution_count": 1,
   "id": "54cf71de",
   "metadata": {},
   "outputs": [],
   "source": [
    "from pyspark.sql import SparkSession"
   ]
  },
  {
   "cell_type": "code",
   "execution_count": 2,
   "id": "ac665199",
   "metadata": {},
   "outputs": [
    {
     "name": "stderr",
     "output_type": "stream",
     "text": [
      "22/04/01 14:34:58 WARN Utils: Your hostname, pop-os resolves to a loopback address: 127.0.1.1; using 192.168.0.195 instead (on interface wlp0s20f3)\n",
      "22/04/01 14:34:58 WARN Utils: Set SPARK_LOCAL_IP if you need to bind to another address\n",
      "WARNING: An illegal reflective access operation has occurred\n",
      "WARNING: Illegal reflective access by org.apache.spark.unsafe.Platform (file:/home/narco/anaconda3/lib/python3.9/site-packages/pyspark/jars/spark-unsafe_2.12-3.2.1.jar) to constructor java.nio.DirectByteBuffer(long,int)\n",
      "WARNING: Please consider reporting this to the maintainers of org.apache.spark.unsafe.Platform\n",
      "WARNING: Use --illegal-access=warn to enable warnings of further illegal reflective access operations\n",
      "WARNING: All illegal access operations will be denied in a future release\n",
      "Using Spark's default log4j profile: org/apache/spark/log4j-defaults.properties\n",
      "Setting default log level to \"WARN\".\n",
      "To adjust logging level use sc.setLogLevel(newLevel). For SparkR, use setLogLevel(newLevel).\n",
      "22/04/01 14:34:58 WARN NativeCodeLoader: Unable to load native-hadoop library for your platform... using builtin-java classes where applicable\n",
      "22/04/01 14:34:58 WARN Utils: Service 'SparkUI' could not bind on port 4040. Attempting port 4041.\n"
     ]
    }
   ],
   "source": [
    "spark = SparkSession.builder.appName('Basic1').getOrCreate()"
   ]
  },
  {
   "cell_type": "code",
   "execution_count": 3,
   "id": "562a17e6",
   "metadata": {},
   "outputs": [
    {
     "data": {
      "text/html": [
       "\n",
       "            <div>\n",
       "                <p><b>SparkSession - in-memory</b></p>\n",
       "                \n",
       "        <div>\n",
       "            <p><b>SparkContext</b></p>\n",
       "\n",
       "            <p><a href=\"http://192.168.0.195:4041\">Spark UI</a></p>\n",
       "\n",
       "            <dl>\n",
       "              <dt>Version</dt>\n",
       "                <dd><code>v3.2.1</code></dd>\n",
       "              <dt>Master</dt>\n",
       "                <dd><code>local[*]</code></dd>\n",
       "              <dt>AppName</dt>\n",
       "                <dd><code>Basic1</code></dd>\n",
       "            </dl>\n",
       "        </div>\n",
       "        \n",
       "            </div>\n",
       "        "
      ],
      "text/plain": [
       "<pyspark.sql.session.SparkSession at 0x7ff3d8206d90>"
      ]
     },
     "execution_count": 3,
     "metadata": {},
     "output_type": "execute_result"
    }
   ],
   "source": [
    "spark"
   ]
  },
  {
   "cell_type": "code",
   "execution_count": 12,
   "id": "f897425a",
   "metadata": {},
   "outputs": [],
   "source": [
    "df = spark.read.csv('data1.csv',header=True,inferSchema=True)"
   ]
  },
  {
   "cell_type": "code",
   "execution_count": 13,
   "id": "965a8637",
   "metadata": {},
   "outputs": [
    {
     "data": {
      "text/plain": [
       "DataFrame[name: string, age: int, exp: int]"
      ]
     },
     "execution_count": 13,
     "metadata": {},
     "output_type": "execute_result"
    }
   ],
   "source": [
    "df"
   ]
  },
  {
   "cell_type": "code",
   "execution_count": 14,
   "id": "ad1a147f",
   "metadata": {},
   "outputs": [
    {
     "name": "stdout",
     "output_type": "stream",
     "text": [
      "+-------+---+---+\n",
      "|   name|age|exp|\n",
      "+-------+---+---+\n",
      "|krishna| 25|  2|\n",
      "|   ramu| 21|  1|\n",
      "|   guru| 20|  0|\n",
      "+-------+---+---+\n",
      "\n"
     ]
    }
   ],
   "source": [
    "df.show()"
   ]
  },
  {
   "cell_type": "code",
   "execution_count": 15,
   "id": "d11bda15",
   "metadata": {},
   "outputs": [
    {
     "name": "stdout",
     "output_type": "stream",
     "text": [
      "root\n",
      " |-- name: string (nullable = true)\n",
      " |-- age: integer (nullable = true)\n",
      " |-- exp: integer (nullable = true)\n",
      "\n"
     ]
    }
   ],
   "source": [
    "df.printSchema()"
   ]
  },
  {
   "cell_type": "code",
   "execution_count": 16,
   "id": "42c05cad",
   "metadata": {},
   "outputs": [
    {
     "data": {
      "text/plain": [
       "['name', 'age', 'exp']"
      ]
     },
     "execution_count": 16,
     "metadata": {},
     "output_type": "execute_result"
    }
   ],
   "source": [
    "df.columns"
   ]
  },
  {
   "cell_type": "code",
   "execution_count": 17,
   "id": "be3cbfec",
   "metadata": {},
   "outputs": [
    {
     "name": "stdout",
     "output_type": "stream",
     "text": [
      "+-------+---+---+\n",
      "|   name|age|exp|\n",
      "+-------+---+---+\n",
      "|krishna| 25|  2|\n",
      "+-------+---+---+\n",
      "only showing top 1 row\n",
      "\n"
     ]
    }
   ],
   "source": [
    "df.show(1)"
   ]
  },
  {
   "cell_type": "code",
   "execution_count": 20,
   "id": "c29a216a",
   "metadata": {},
   "outputs": [
    {
     "name": "stdout",
     "output_type": "stream",
     "text": [
      "+-------+---+\n",
      "|   name|age|\n",
      "+-------+---+\n",
      "|krishna| 25|\n",
      "|   ramu| 21|\n",
      "|   guru| 20|\n",
      "+-------+---+\n",
      "\n"
     ]
    }
   ],
   "source": [
    "df.select(['name','age']).show()"
   ]
  },
  {
   "cell_type": "code",
   "execution_count": 22,
   "id": "46839ad5",
   "metadata": {},
   "outputs": [
    {
     "data": {
      "text/plain": [
       "[('name', 'string'), ('age', 'int'), ('exp', 'int')]"
      ]
     },
     "execution_count": 22,
     "metadata": {},
     "output_type": "execute_result"
    }
   ],
   "source": [
    "df.dtypes"
   ]
  },
  {
   "cell_type": "code",
   "execution_count": 24,
   "id": "290dd43b",
   "metadata": {},
   "outputs": [
    {
     "name": "stdout",
     "output_type": "stream",
     "text": [
      "+-------+----+------------------+---+\n",
      "|summary|name|               age|exp|\n",
      "+-------+----+------------------+---+\n",
      "|  count|   3|                 3|  3|\n",
      "|   mean|null|              22.0|1.0|\n",
      "| stddev|null|2.6457513110645907|1.0|\n",
      "|    min|guru|                20|  0|\n",
      "|    max|ramu|                25|  2|\n",
      "+-------+----+------------------+---+\n",
      "\n"
     ]
    }
   ],
   "source": [
    "df.describe().show()"
   ]
  },
  {
   "cell_type": "code",
   "execution_count": 27,
   "id": "6ed6799f",
   "metadata": {},
   "outputs": [
    {
     "name": "stdout",
     "output_type": "stream",
     "text": [
      "+-------+---+---+------+\n",
      "|   name|age|exp|age +2|\n",
      "+-------+---+---+------+\n",
      "|krishna| 25|  2|     4|\n",
      "|   ramu| 21|  1|     3|\n",
      "|   guru| 20|  0|     2|\n",
      "+-------+---+---+------+\n",
      "\n"
     ]
    }
   ],
   "source": [
    "df.withColumn('age +2',df['exp']+2).show()"
   ]
  },
  {
   "cell_type": "code",
   "execution_count": 26,
   "id": "28eb06d4",
   "metadata": {},
   "outputs": [
    {
     "name": "stdout",
     "output_type": "stream",
     "text": [
      "+-------+---+---+\n",
      "|   name|age|exp|\n",
      "+-------+---+---+\n",
      "|krishna| 25|  2|\n",
      "|   ramu| 21|  1|\n",
      "|   guru| 20|  0|\n",
      "+-------+---+---+\n",
      "\n"
     ]
    }
   ],
   "source": [
    "df.show()"
   ]
  },
  {
   "cell_type": "code",
   "execution_count": 30,
   "id": "8966cd76",
   "metadata": {},
   "outputs": [
    {
     "name": "stdout",
     "output_type": "stream",
     "text": [
      "+-------+---+\n",
      "|   name|age|\n",
      "+-------+---+\n",
      "|krishna| 25|\n",
      "|   ramu| 21|\n",
      "|   guru| 20|\n",
      "+-------+---+\n",
      "\n"
     ]
    }
   ],
   "source": [
    "df.drop('exp').show()"
   ]
  },
  {
   "cell_type": "code",
   "execution_count": 29,
   "id": "22d72dfa",
   "metadata": {},
   "outputs": [
    {
     "name": "stdout",
     "output_type": "stream",
     "text": [
      "+-------+---+---+\n",
      "|   name|age|exp|\n",
      "+-------+---+---+\n",
      "|krishna| 25|  2|\n",
      "|   ramu| 21|  1|\n",
      "|   guru| 20|  0|\n",
      "+-------+---+---+\n",
      "\n"
     ]
    }
   ],
   "source": [
    "df.show()"
   ]
  },
  {
   "cell_type": "code",
   "execution_count": 38,
   "id": "5c76b09a",
   "metadata": {},
   "outputs": [
    {
     "name": "stdout",
     "output_type": "stream",
     "text": [
      "+-------+---+---+\n",
      "|   Name|age|exp|\n",
      "+-------+---+---+\n",
      "|krishna| 25|  2|\n",
      "|   ramu| 21|  1|\n",
      "|   guru| 20|  0|\n",
      "+-------+---+---+\n",
      "\n"
     ]
    }
   ],
   "source": [
    "df.withColumnRenamed('name','Name').show()"
   ]
  },
  {
   "cell_type": "code",
   "execution_count": 32,
   "id": "cdc17c94",
   "metadata": {},
   "outputs": [
    {
     "name": "stdout",
     "output_type": "stream",
     "text": [
      "+-------+---+---+\n",
      "|   name|age|exp|\n",
      "+-------+---+---+\n",
      "|krishna| 25|  2|\n",
      "|   ramu| 21|  1|\n",
      "|   guru| 20|  0|\n",
      "+-------+---+---+\n",
      "\n"
     ]
    }
   ],
   "source": [
    "df.show()"
   ]
  },
  {
   "cell_type": "code",
   "execution_count": 39,
   "id": "395b8b91",
   "metadata": {},
   "outputs": [
    {
     "name": "stdout",
     "output_type": "stream",
     "text": [
      "+------+----+\n",
      "|  Name| Age|\n",
      "+------+----+\n",
      "|  null|  21|\n",
      "|   ram|  22|\n",
      "|  shum|null|\n",
      "|mahesh|null|\n",
      "|mondal|null|\n",
      "|  null|null|\n",
      "+------+----+\n",
      "\n"
     ]
    }
   ],
   "source": [
    "df1 = spark.read.csv('data2.csv',header=True,inferSchema=True)\n",
    "df1.show()"
   ]
  },
  {
   "cell_type": "code",
   "execution_count": 40,
   "id": "7618dd47",
   "metadata": {},
   "outputs": [
    {
     "name": "stdout",
     "output_type": "stream",
     "text": [
      "+----+---+\n",
      "|Name|Age|\n",
      "+----+---+\n",
      "| ram| 22|\n",
      "+----+---+\n",
      "\n"
     ]
    }
   ],
   "source": [
    "df1.na.drop().show()"
   ]
  },
  {
   "cell_type": "code",
   "execution_count": 41,
   "id": "8e9b3c16",
   "metadata": {},
   "outputs": [
    {
     "name": "stdout",
     "output_type": "stream",
     "text": [
      "+------+----+\n",
      "|  Name| Age|\n",
      "+------+----+\n",
      "|  null|  21|\n",
      "|   ram|  22|\n",
      "|  shum|null|\n",
      "|mahesh|null|\n",
      "|mondal|null|\n",
      "+------+----+\n",
      "\n"
     ]
    }
   ],
   "source": [
    "df1.na.drop(how='all').show()"
   ]
  },
  {
   "cell_type": "code",
   "execution_count": 42,
   "id": "9799b9d1",
   "metadata": {},
   "outputs": [
    {
     "name": "stdout",
     "output_type": "stream",
     "text": [
      "+----+---+\n",
      "|Name|Age|\n",
      "+----+---+\n",
      "| ram| 22|\n",
      "+----+---+\n",
      "\n"
     ]
    }
   ],
   "source": [
    "df1.na.drop(how='any').show()"
   ]
  },
  {
   "cell_type": "code",
   "execution_count": 46,
   "id": "13333593",
   "metadata": {},
   "outputs": [
    {
     "name": "stdout",
     "output_type": "stream",
     "text": [
      "+------+----+\n",
      "|  Name| Age|\n",
      "+------+----+\n",
      "|  null|  21|\n",
      "|   ram|  22|\n",
      "|  shum|null|\n",
      "|mahesh|null|\n",
      "|mondal|null|\n",
      "+------+----+\n",
      "\n"
     ]
    }
   ],
   "source": [
    "df1.na.drop(how='any',thresh=1).show()"
   ]
  },
  {
   "cell_type": "code",
   "execution_count": 47,
   "id": "ca30a8ea",
   "metadata": {},
   "outputs": [
    {
     "name": "stdout",
     "output_type": "stream",
     "text": [
      "+----+---+\n",
      "|Name|Age|\n",
      "+----+---+\n",
      "|null| 21|\n",
      "| ram| 22|\n",
      "+----+---+\n",
      "\n"
     ]
    }
   ],
   "source": [
    "df1.na.drop(how='any',subset=['Age']).show()"
   ]
  },
  {
   "cell_type": "code",
   "execution_count": 60,
   "id": "4ae6aaff",
   "metadata": {},
   "outputs": [
    {
     "name": "stdout",
     "output_type": "stream",
     "text": [
      "+------+----+\n",
      "|  Name| Age|\n",
      "+------+----+\n",
      "|  hoge|  21|\n",
      "|   ram|  22|\n",
      "|  shum|null|\n",
      "|mahesh|null|\n",
      "|mondal|null|\n",
      "|  hoge|null|\n",
      "+------+----+\n",
      "\n"
     ]
    }
   ],
   "source": [
    "df1.na.fill('hoge',['Name','Age']).show()"
   ]
  },
  {
   "cell_type": "code",
   "execution_count": 62,
   "id": "38a9679a",
   "metadata": {},
   "outputs": [
    {
     "name": "stdout",
     "output_type": "stream",
     "text": [
      "+------+----+\n",
      "|  Name| Age|\n",
      "+------+----+\n",
      "|  null|  21|\n",
      "|   ram|  22|\n",
      "|  shum|null|\n",
      "|mahesh|null|\n",
      "|mondal|null|\n",
      "|  null|null|\n",
      "+------+----+\n",
      "\n"
     ]
    }
   ],
   "source": [
    "df1.show()"
   ]
  },
  {
   "cell_type": "code",
   "execution_count": 63,
   "id": "36e0d603",
   "metadata": {},
   "outputs": [],
   "source": [
    "from pyspark.ml.feature import Imputer"
   ]
  },
  {
   "cell_type": "code",
   "execution_count": 73,
   "id": "7f913f4b",
   "metadata": {},
   "outputs": [],
   "source": [
    "imputer = Imputer(\n",
    "inputCols=['Age'],\n",
    "outputCols=['{}_imputed'.format(c) for c in ['age'] ]).setStrategy(\"median\")"
   ]
  },
  {
   "cell_type": "code",
   "execution_count": 74,
   "id": "a4b27c2c",
   "metadata": {},
   "outputs": [
    {
     "name": "stdout",
     "output_type": "stream",
     "text": [
      "+------+----+-----------+\n",
      "|  Name| Age|age_imputed|\n",
      "+------+----+-----------+\n",
      "|  null|  21|         21|\n",
      "|   ram|  22|         22|\n",
      "|  shum|null|         21|\n",
      "|mahesh|null|         21|\n",
      "|mondal|null|         21|\n",
      "|  null|null|         21|\n",
      "+------+----+-----------+\n",
      "\n"
     ]
    }
   ],
   "source": [
    "imputer.fit(df1).transform(df1).show()"
   ]
  },
  {
   "cell_type": "code",
   "execution_count": null,
   "id": "5a9c90c2",
   "metadata": {},
   "outputs": [],
   "source": []
  }
 ],
 "metadata": {
  "kernelspec": {
   "display_name": "Python 3 (ipykernel)",
   "language": "python",
   "name": "python3"
  },
  "language_info": {
   "codemirror_mode": {
    "name": "ipython",
    "version": 3
   },
   "file_extension": ".py",
   "mimetype": "text/x-python",
   "name": "python",
   "nbconvert_exporter": "python",
   "pygments_lexer": "ipython3",
   "version": "3.9.7"
  }
 },
 "nbformat": 4,
 "nbformat_minor": 5
}
