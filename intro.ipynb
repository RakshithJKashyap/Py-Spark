{
 "cells": [
  {
   "cell_type": "code",
   "execution_count": 1,
   "id": "85aa516c",
   "metadata": {},
   "outputs": [
    {
     "name": "stdout",
     "output_type": "stream",
     "text": [
      "Collecting pyspark\n",
      "  Downloading pyspark-3.2.1.tar.gz (281.4 MB)\n",
      "\u001b[K     |████████████████████████████████| 281.4 MB 8.6 MB/s eta 0:00:011     |███████████████                 | 132.6 MB 13.2 MB/s eta 0:00:12\n",
      "\u001b[?25hCollecting py4j==0.10.9.3\n",
      "  Downloading py4j-0.10.9.3-py2.py3-none-any.whl (198 kB)\n",
      "\u001b[K     |████████████████████████████████| 198 kB 17.1 MB/s eta 0:00:01\n",
      "\u001b[?25hBuilding wheels for collected packages: pyspark\n",
      "  Building wheel for pyspark (setup.py) ... \u001b[?25ldone\n",
      "\u001b[?25h  Created wheel for pyspark: filename=pyspark-3.2.1-py2.py3-none-any.whl size=281853642 sha256=af5a839f0ab5ad686948a9005e456706985716b5a2bae993d84006d59e97792c\n",
      "  Stored in directory: /home/narco/.cache/pip/wheels/52/45/50/69db7b6e1da74a1b9fcc097827db9185cb8627117de852731e\n",
      "Successfully built pyspark\n",
      "Installing collected packages: py4j, pyspark\n",
      "Successfully installed py4j-0.10.9.3 pyspark-3.2.1\n"
     ]
    }
   ],
   "source": [
    "!pip install pyspark"
   ]
  },
  {
   "cell_type": "code",
   "execution_count": 2,
   "id": "aee575fd",
   "metadata": {},
   "outputs": [],
   "source": [
    "import pyspark"
   ]
  },
  {
   "cell_type": "code",
   "execution_count": 5,
   "id": "7e61fdbd",
   "metadata": {},
   "outputs": [],
   "source": [
    "from pyspark.sql import SparkSession"
   ]
  },
  {
   "cell_type": "code",
   "execution_count": 4,
   "id": "1ae99794",
   "metadata": {},
   "outputs": [
    {
     "name": "stdout",
     "output_type": "stream",
     "text": [
      "Package                            Version\r\n",
      "---------------------------------- --------------------\r\n",
      "alabaster                          0.7.12\r\n",
      "anaconda-client                    1.9.0\r\n",
      "anaconda-navigator                 2.1.1\r\n",
      "anaconda-project                   0.10.1\r\n",
      "anyio                              2.2.0\r\n",
      "appdirs                            1.4.4\r\n",
      "argh                               0.26.2\r\n",
      "argon2-cffi                        20.1.0\r\n",
      "arrow                              0.13.1\r\n",
      "asn1crypto                         1.4.0\r\n",
      "astroid                            2.6.6\r\n",
      "astropy                            4.3.1\r\n",
      "async-generator                    1.10\r\n",
      "atomicwrites                       1.4.0\r\n",
      "attrs                              21.2.0\r\n",
      "autopep8                           1.5.7\r\n",
      "Babel                              2.9.1\r\n",
      "backcall                           0.2.0\r\n",
      "backports.functools-lru-cache      1.6.4\r\n",
      "backports.shutil-get-terminal-size 1.0.0\r\n",
      "backports.tempfile                 1.0\r\n",
      "backports.weakref                  1.0.post1\r\n",
      "beautifulsoup4                     4.10.0\r\n",
      "binaryornot                        0.4.4\r\n",
      "bitarray                           2.3.0\r\n",
      "bkcharts                           0.2\r\n",
      "black                              19.10b0\r\n",
      "bleach                             4.0.0\r\n",
      "bokeh                              2.4.1\r\n",
      "boto                               2.49.0\r\n",
      "Bottleneck                         1.3.2\r\n",
      "brotlipy                           0.7.0\r\n",
      "cached-property                    1.5.2\r\n",
      "certifi                            2021.10.8\r\n",
      "cffi                               1.14.6\r\n",
      "chardet                            4.0.0\r\n",
      "charset-normalizer                 2.0.4\r\n",
      "click                              8.0.3\r\n",
      "cloudpickle                        2.0.0\r\n",
      "clyent                             1.2.2\r\n",
      "colorama                           0.4.4\r\n",
      "conda                              4.10.3\r\n",
      "conda-build                        3.21.5\r\n",
      "conda-content-trust                0+unknown\r\n",
      "conda-pack                         0.6.0\r\n",
      "conda-package-handling             1.7.3\r\n",
      "conda-repo-cli                     1.0.4\r\n",
      "conda-token                        0.3.0\r\n",
      "conda-verify                       3.4.2\r\n",
      "contextlib2                        0.6.0.post1\r\n",
      "cookiecutter                       1.7.2\r\n",
      "cryptography                       3.4.8\r\n",
      "cycler                             0.10.0\r\n",
      "Cython                             0.29.24\r\n",
      "cytoolz                            0.11.0\r\n",
      "daal4py                            2021.3.0\r\n",
      "dask                               2021.10.0\r\n",
      "debugpy                            1.4.1\r\n",
      "decorator                          5.1.0\r\n",
      "defusedxml                         0.7.1\r\n",
      "diff-match-patch                   20200713\r\n",
      "distlib                            0.3.4\r\n",
      "distributed                        2021.10.0\r\n",
      "docutils                           0.17.1\r\n",
      "entrypoints                        0.3\r\n",
      "et-xmlfile                         1.1.0\r\n",
      "fastcache                          1.1.0\r\n",
      "filelock                           3.6.0\r\n",
      "flake8                             3.9.2\r\n",
      "Flask                              1.1.2\r\n",
      "fonttools                          4.25.0\r\n",
      "fsspec                             2021.8.1\r\n",
      "future                             0.18.2\r\n",
      "gevent                             21.8.0\r\n",
      "glob2                              0.7\r\n",
      "gmpy2                              2.0.8\r\n",
      "greenlet                           1.1.1\r\n",
      "h5py                               3.3.0\r\n",
      "HeapDict                           1.0.1\r\n",
      "html5lib                           1.1\r\n",
      "idna                               3.2\r\n",
      "imagecodecs                        2021.8.26\r\n",
      "imageio                            2.9.0\r\n",
      "imagesize                          1.2.0\r\n",
      "importlib-metadata                 4.8.1\r\n",
      "inflection                         0.5.1\r\n",
      "iniconfig                          1.1.1\r\n",
      "intervaltree                       3.1.0\r\n",
      "ipykernel                          6.4.1\r\n",
      "ipython                            7.29.0\r\n",
      "ipython-genutils                   0.2.0\r\n",
      "ipywidgets                         7.6.5\r\n",
      "isort                              5.9.3\r\n",
      "itsdangerous                       2.0.1\r\n",
      "jdcal                              1.4.1\r\n",
      "jedi                               0.18.0\r\n",
      "jeepney                            0.7.1\r\n",
      "Jinja2                             2.11.3\r\n",
      "jinja2-time                        0.2.0\r\n",
      "joblib                             1.1.0\r\n",
      "json5                              0.9.6\r\n",
      "jsonschema                         3.2.0\r\n",
      "jupyter                            1.0.0\r\n",
      "jupyter-client                     6.1.12\r\n",
      "jupyter-console                    6.4.0\r\n",
      "jupyter-core                       4.8.1\r\n",
      "jupyter-server                     1.4.1\r\n",
      "jupyterlab                         3.2.1\r\n",
      "jupyterlab-pygments                0.1.2\r\n",
      "jupyterlab-server                  2.8.2\r\n",
      "jupyterlab-widgets                 1.0.0\r\n",
      "keyring                            23.1.0\r\n",
      "kiwisolver                         1.3.1\r\n",
      "lazy-object-proxy                  1.6.0\r\n",
      "libarchive-c                       2.9\r\n",
      "llvmlite                           0.37.0\r\n",
      "locket                             0.2.1\r\n",
      "lxml                               4.6.3\r\n",
      "MarkupSafe                         1.1.1\r\n",
      "matplotlib                         3.4.3\r\n",
      "matplotlib-inline                  0.1.2\r\n",
      "mccabe                             0.6.1\r\n",
      "mistune                            0.8.4\r\n",
      "mkl-fft                            1.3.1\r\n",
      "mkl-random                         1.2.2\r\n",
      "mkl-service                        2.4.0\r\n",
      "mock                               4.0.3\r\n",
      "more-itertools                     8.10.0\r\n",
      "mpmath                             1.2.1\r\n",
      "msgpack                            1.0.2\r\n",
      "multipledispatch                   0.6.0\r\n",
      "munkres                            1.1.4\r\n",
      "mypy-extensions                    0.4.3\r\n",
      "navigator-updater                  0.2.1\r\n",
      "nbclassic                          0.2.6\r\n",
      "nbclient                           0.5.3\r\n",
      "nbconvert                          6.1.0\r\n",
      "nbformat                           5.1.3\r\n",
      "nest-asyncio                       1.5.1\r\n",
      "networkx                           2.6.3\r\n",
      "nltk                               3.6.5\r\n",
      "nose                               1.3.7\r\n",
      "notebook                           6.4.5\r\n",
      "numba                              0.54.1\r\n",
      "numexpr                            2.7.3\r\n",
      "numpy                              1.20.3\r\n",
      "numpydoc                           1.1.0\r\n",
      "olefile                            0.46\r\n",
      "openpyxl                           3.0.9\r\n",
      "packaging                          21.0\r\n",
      "pandas                             1.3.4\r\n",
      "pandocfilters                      1.4.3\r\n",
      "parso                              0.8.2\r\n",
      "partd                              1.2.0\r\n",
      "path                               16.0.0\r\n",
      "pathlib2                           2.3.6\r\n",
      "pathspec                           0.7.0\r\n",
      "patsy                              0.5.2\r\n",
      "pep8                               1.7.1\r\n",
      "pexpect                            4.8.0\r\n",
      "pickleshare                        0.7.5\r\n",
      "Pillow                             8.4.0\r\n",
      "pip                                21.2.4\r\n",
      "pkginfo                            1.7.1\r\n",
      "platformdirs                       2.5.1\r\n",
      "pluggy                             0.13.1\r\n",
      "ply                                3.11\r\n",
      "poyo                               0.5.0\r\n",
      "prometheus-client                  0.11.0\r\n",
      "prompt-toolkit                     3.0.20\r\n",
      "psutil                             5.8.0\r\n",
      "ptyprocess                         0.7.0\r\n",
      "py                                 1.10.0\r\n",
      "py4j                               0.10.9.3\r\n",
      "pycodestyle                        2.7.0\r\n",
      "pycosat                            0.6.3\r\n",
      "pycparser                          2.20\r\n",
      "pycurl                             7.44.1\r\n",
      "pydocstyle                         6.1.1\r\n",
      "pyerfa                             2.0.0\r\n",
      "pyflakes                           2.3.1\r\n",
      "Pygments                           2.10.0\r\n",
      "PyJWT                              2.1.0\r\n",
      "pylint                             2.9.6\r\n",
      "pyls-spyder                        0.4.0\r\n",
      "pyodbc                             4.0.0-unsupported\r\n",
      "pyOpenSSL                          21.0.0\r\n",
      "pyparsing                          3.0.4\r\n",
      "pyrsistent                         0.18.0\r\n",
      "PySocks                            1.7.1\r\n",
      "pyspark                            3.2.1\r\n",
      "pytest                             6.2.4\r\n",
      "python-dateutil                    2.8.2\r\n",
      "python-lsp-black                   1.0.0\r\n",
      "python-lsp-jsonrpc                 1.0.0\r\n",
      "python-lsp-server                  1.2.4\r\n",
      "python-slugify                     5.0.2\r\n",
      "pytz                               2021.3\r\n",
      "PyWavelets                         1.1.1\r\n",
      "pyxdg                              0.27\r\n",
      "PyYAML                             6.0\r\n",
      "pyzmq                              22.2.1\r\n",
      "QDarkStyle                         3.0.2\r\n",
      "qstylizer                          0.1.10\r\n",
      "QtAwesome                          1.0.2\r\n",
      "qtconsole                          5.1.1\r\n",
      "QtPy                               1.10.0\r\n",
      "regex                              2021.8.3\r\n",
      "requests                           2.26.0\r\n",
      "rope                               0.19.0\r\n",
      "Rtree                              0.9.7\r\n",
      "ruamel-yaml-conda                  0.15.100\r\n",
      "scikit-image                       0.18.3\r\n",
      "scikit-learn                       0.24.2\r\n",
      "scikit-learn-intelex               2021.20210714.170444\r\n",
      "scipy                              1.7.1\r\n",
      "seaborn                            0.11.2\r\n",
      "SecretStorage                      3.3.1\r\n",
      "Send2Trash                         1.8.0\r\n",
      "setuptools                         58.0.4\r\n",
      "simplegeneric                      0.8.1\r\n",
      "singledispatch                     3.7.0\r\n",
      "sip                                4.19.13\r\n",
      "six                                1.16.0\r\n",
      "sniffio                            1.2.0\r\n",
      "snowballstemmer                    2.1.0\r\n",
      "sortedcollections                  2.1.0\r\n",
      "sortedcontainers                   2.4.0\r\n",
      "soupsieve                          2.2.1\r\n",
      "Sphinx                             4.2.0\r\n",
      "sphinxcontrib-applehelp            1.0.2\r\n",
      "sphinxcontrib-devhelp              1.0.2\r\n",
      "sphinxcontrib-htmlhelp             2.0.0\r\n",
      "sphinxcontrib-jsmath               1.0.1\r\n",
      "sphinxcontrib-qthelp               1.0.3\r\n",
      "sphinxcontrib-serializinghtml      1.1.5\r\n",
      "sphinxcontrib-websupport           1.2.4\r\n",
      "spyder                             5.1.5\r\n",
      "spyder-kernels                     2.1.3\r\n",
      "SQLAlchemy                         1.4.22\r\n",
      "statsmodels                        0.12.2\r\n",
      "sympy                              1.9\r\n",
      "tables                             3.6.1\r\n",
      "TBB                                0.2\r\n",
      "tblib                              1.7.0\r\n",
      "terminado                          0.9.4\r\n",
      "testpath                           0.5.0\r\n",
      "text-unidecode                     1.3\r\n",
      "textdistance                       4.2.1\r\n",
      "threadpoolctl                      2.2.0\r\n",
      "three-merge                        0.1.1\r\n",
      "tifffile                           2021.7.2\r\n",
      "tinycss                            0.4\r\n",
      "toml                               0.10.2\r\n",
      "toolz                              0.11.1\r\n",
      "tornado                            6.1\r\n",
      "tqdm                               4.62.3\r\n",
      "traitlets                          5.1.0\r\n",
      "typed-ast                          1.4.3\r\n",
      "typing-extensions                  3.10.0.2\r\n",
      "ujson                              4.0.2\r\n",
      "unicodecsv                         0.14.1\r\n",
      "Unidecode                          1.2.0\r\n",
      "urllib3                            1.26.7\r\n",
      "virtualenv                         20.14.0\r\n",
      "watchdog                           2.1.3\r\n",
      "wcwidth                            0.2.5\r\n",
      "webencodings                       0.5.1\r\n",
      "Werkzeug                           2.0.2\r\n",
      "wheel                              0.37.0\r\n",
      "whichcraft                         0.6.1\r\n",
      "widgetsnbextension                 3.5.1\r\n",
      "wrapt                              1.12.1\r\n",
      "wurlitzer                          2.1.1\r\n",
      "xlrd                               2.0.1\r\n",
      "XlsxWriter                         3.0.1\r\n",
      "xlwt                               1.3.0\r\n",
      "xmltodict                          0.12.0\r\n",
      "yapf                               0.31.0\r\n",
      "zict                               2.0.0\r\n",
      "zipp                               3.6.0\r\n",
      "zope.event                         4.5.0\r\n",
      "zope.interface                     5.4.0\r\n"
     ]
    }
   ],
   "source": [
    "!pip list"
   ]
  },
  {
   "cell_type": "code",
   "execution_count": 2,
   "id": "4ce7d6ab",
   "metadata": {},
   "outputs": [],
   "source": [
    "import pandas as pd"
   ]
  },
  {
   "cell_type": "code",
   "execution_count": 3,
   "id": "1fa576d5",
   "metadata": {},
   "outputs": [
    {
     "data": {
      "text/html": [
       "<div>\n",
       "<style scoped>\n",
       "    .dataframe tbody tr th:only-of-type {\n",
       "        vertical-align: middle;\n",
       "    }\n",
       "\n",
       "    .dataframe tbody tr th {\n",
       "        vertical-align: top;\n",
       "    }\n",
       "\n",
       "    .dataframe thead th {\n",
       "        text-align: right;\n",
       "    }\n",
       "</style>\n",
       "<table border=\"1\" class=\"dataframe\">\n",
       "  <thead>\n",
       "    <tr style=\"text-align: right;\">\n",
       "      <th></th>\n",
       "      <th>name</th>\n",
       "      <th>age</th>\n",
       "    </tr>\n",
       "  </thead>\n",
       "  <tbody>\n",
       "    <tr>\n",
       "      <th>0</th>\n",
       "      <td>ram</td>\n",
       "      <td>21</td>\n",
       "    </tr>\n",
       "    <tr>\n",
       "      <th>1</th>\n",
       "      <td>shyam</td>\n",
       "      <td>20</td>\n",
       "    </tr>\n",
       "    <tr>\n",
       "      <th>2</th>\n",
       "      <td>ganesh</td>\n",
       "      <td>19</td>\n",
       "    </tr>\n",
       "  </tbody>\n",
       "</table>\n",
       "</div>"
      ],
      "text/plain": [
       "     name  age\n",
       "0     ram   21\n",
       "1   shyam   20\n",
       "2  ganesh   19"
      ]
     },
     "execution_count": 3,
     "metadata": {},
     "output_type": "execute_result"
    }
   ],
   "source": [
    "pd.read_csv('try1.csv')"
   ]
  },
  {
   "cell_type": "code",
   "execution_count": 6,
   "id": "ab6ad2ac",
   "metadata": {},
   "outputs": [
    {
     "name": "stderr",
     "output_type": "stream",
     "text": [
      "22/04/01 14:23:03 WARN Utils: Your hostname, pop-os resolves to a loopback address: 127.0.1.1; using 192.168.0.195 instead (on interface wlp0s20f3)\n",
      "22/04/01 14:23:03 WARN Utils: Set SPARK_LOCAL_IP if you need to bind to another address\n",
      "WARNING: An illegal reflective access operation has occurred\n",
      "WARNING: Illegal reflective access by org.apache.spark.unsafe.Platform (file:/home/narco/anaconda3/lib/python3.9/site-packages/pyspark/jars/spark-unsafe_2.12-3.2.1.jar) to constructor java.nio.DirectByteBuffer(long,int)\n",
      "WARNING: Please consider reporting this to the maintainers of org.apache.spark.unsafe.Platform\n",
      "WARNING: Use --illegal-access=warn to enable warnings of further illegal reflective access operations\n",
      "WARNING: All illegal access operations will be denied in a future release\n",
      "Using Spark's default log4j profile: org/apache/spark/log4j-defaults.properties\n",
      "Setting default log level to \"WARN\".\n",
      "To adjust logging level use sc.setLogLevel(newLevel). For SparkR, use setLogLevel(newLevel).\n",
      "22/04/01 14:23:04 WARN NativeCodeLoader: Unable to load native-hadoop library for your platform... using builtin-java classes where applicable\n"
     ]
    }
   ],
   "source": [
    "spark = SparkSession.builder.appName(\"Practise\").getOrCreate()"
   ]
  },
  {
   "cell_type": "code",
   "execution_count": 7,
   "id": "9c9bae13",
   "metadata": {},
   "outputs": [
    {
     "data": {
      "text/html": [
       "\n",
       "            <div>\n",
       "                <p><b>SparkSession - in-memory</b></p>\n",
       "                \n",
       "        <div>\n",
       "            <p><b>SparkContext</b></p>\n",
       "\n",
       "            <p><a href=\"http://192.168.0.195:4040\">Spark UI</a></p>\n",
       "\n",
       "            <dl>\n",
       "              <dt>Version</dt>\n",
       "                <dd><code>v3.2.1</code></dd>\n",
       "              <dt>Master</dt>\n",
       "                <dd><code>local[*]</code></dd>\n",
       "              <dt>AppName</dt>\n",
       "                <dd><code>Practise</code></dd>\n",
       "            </dl>\n",
       "        </div>\n",
       "        \n",
       "            </div>\n",
       "        "
      ],
      "text/plain": [
       "<pyspark.sql.session.SparkSession at 0x7f9a3b993250>"
      ]
     },
     "execution_count": 7,
     "metadata": {},
     "output_type": "execute_result"
    }
   ],
   "source": [
    "spark"
   ]
  },
  {
   "cell_type": "code",
   "execution_count": 8,
   "id": "943f9e16",
   "metadata": {},
   "outputs": [],
   "source": [
    "df = spark.read.csv('try1.csv')"
   ]
  },
  {
   "cell_type": "code",
   "execution_count": 10,
   "id": "1874ff8e",
   "metadata": {},
   "outputs": [
    {
     "name": "stdout",
     "output_type": "stream",
     "text": [
      "+------+---+\n",
      "|   _c0|_c1|\n",
      "+------+---+\n",
      "|  name|age|\n",
      "|   ram| 21|\n",
      "| shyam| 20|\n",
      "|ganesh| 19|\n",
      "+------+---+\n",
      "\n"
     ]
    }
   ],
   "source": [
    "df.show()"
   ]
  },
  {
   "cell_type": "code",
   "execution_count": 11,
   "id": "c36d8cf5",
   "metadata": {},
   "outputs": [],
   "source": [
    "df1 = spark.read.option('header','true').csv('try1.csv')"
   ]
  },
  {
   "cell_type": "code",
   "execution_count": 12,
   "id": "a647c2cf",
   "metadata": {},
   "outputs": [
    {
     "data": {
      "text/plain": [
       "DataFrame[name: string, age: string]"
      ]
     },
     "execution_count": 12,
     "metadata": {},
     "output_type": "execute_result"
    }
   ],
   "source": [
    "df1"
   ]
  },
  {
   "cell_type": "code",
   "execution_count": 13,
   "id": "73d5f1b9",
   "metadata": {},
   "outputs": [
    {
     "name": "stdout",
     "output_type": "stream",
     "text": [
      "+------+---+\n",
      "|  name|age|\n",
      "+------+---+\n",
      "|   ram| 21|\n",
      "| shyam| 20|\n",
      "|ganesh| 19|\n",
      "+------+---+\n",
      "\n"
     ]
    }
   ],
   "source": [
    "df1.show()"
   ]
  },
  {
   "cell_type": "code",
   "execution_count": 16,
   "id": "a7e76d61",
   "metadata": {},
   "outputs": [
    {
     "data": {
      "text/plain": [
       "[Row(name='ram', age='21'),\n",
       " Row(name='shyam', age='20'),\n",
       " Row(name='ganesh', age='19')]"
      ]
     },
     "execution_count": 16,
     "metadata": {},
     "output_type": "execute_result"
    }
   ],
   "source": [
    "df1.head(3)"
   ]
  },
  {
   "cell_type": "code",
   "execution_count": 19,
   "id": "1c9b176b",
   "metadata": {},
   "outputs": [
    {
     "name": "stdout",
     "output_type": "stream",
     "text": [
      "root\n",
      " |-- name: string (nullable = true)\n",
      " |-- age: string (nullable = true)\n",
      "\n"
     ]
    }
   ],
   "source": [
    "df1.printSchema()"
   ]
  },
  {
   "cell_type": "code",
   "execution_count": null,
   "id": "3f8e1b31",
   "metadata": {},
   "outputs": [],
   "source": []
  }
 ],
 "metadata": {
  "kernelspec": {
   "display_name": "Python 3 (ipykernel)",
   "language": "python",
   "name": "python3"
  },
  "language_info": {
   "codemirror_mode": {
    "name": "ipython",
    "version": 3
   },
   "file_extension": ".py",
   "mimetype": "text/x-python",
   "name": "python",
   "nbconvert_exporter": "python",
   "pygments_lexer": "ipython3",
   "version": "3.9.7"
  }
 },
 "nbformat": 4,
 "nbformat_minor": 5
}
